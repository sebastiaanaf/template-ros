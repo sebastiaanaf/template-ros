{
 "cells": [
  {
   "cell_type": "code",
   "execution_count": 27,
   "id": "8d38a4de",
   "metadata": {},
   "outputs": [],
   "source": [
    "import cv2\n",
    "import numpy\n",
    "import math\n",
    "import numpy as np\n",
    "import os"
   ]
  },
  {
   "cell_type": "code",
   "execution_count": 28,
   "id": "ea00cc0d",
   "metadata": {},
   "outputs": [],
   "source": [
    " #Filter HSV Image with given values\n",
    "def filterImage( img, min_bgr, max_bgr):\n",
    "    '''\n",
    "    Input: HSV Image, 2 List of min and max HSV values\n",
    "    Output: Black White Matrix/Image\n",
    "    '''\n",
    "    ## implement your filtering here.\n",
    "    min_scal = np.array(min_bgr)\n",
    "    max_scal = np.array(max_bgr)\n",
    "\n",
    "    # img = cv2.cvtColor(img, cv2.COLOR_BGR2HSV)\n",
    "\n",
    "    resultImg = cv2.inRange(img, min_scal, max_scal)\n",
    "    resultImg = cv2.blur(resultImg,(1,1))\n",
    "\n",
    "    return resultImg\n",
    "        "
   ]
  },
  {
   "cell_type": "code",
   "execution_count": 29,
   "id": "81050d75",
   "metadata": {},
   "outputs": [],
   "source": [
    "def findCircle(imgMat):\n",
    "        '''\n",
    "        Input: Black Whit Image\n",
    "        Return: List of center position of found Circle\n",
    "        '''\n",
    "        img = imgMat\n",
    "        \n",
    "        dp = 2\n",
    "        minD = 120\n",
    "        p1 = 255\n",
    "        p2 = 27\n",
    "        minS = 8\n",
    "        maxS = 300\n",
    "        circles = cv2.HoughCircles(img, cv2.HOUGH_GRADIENT, dp, minD, None, p1, p2, minS, maxS)\n",
    "\n",
    "\n",
    "        if circles is None: # circles == None\n",
    "            return None\n",
    "        else:\n",
    "            return np.reshape(circles,(circles.shape[1],circles.shape[2]))"
   ]
  },
  {
   "cell_type": "code",
   "execution_count": 30,
   "id": "7ada0f56",
   "metadata": {},
   "outputs": [],
   "source": [
    "def in_range_bgr(self,img,bgr_low,bgr_high):\n",
    "        return cv2.inRange(img, np.array(bgr_low), np.array(bgr_high))"
   ]
  },
  {
   "cell_type": "code",
   "execution_count": 31,
   "id": "13ff4cf8",
   "metadata": {},
   "outputs": [],
   "source": [
    "# Proces image to detect color blobs\n",
    "def getBlobsData(image):\n",
    "    '''\n",
    "    Input: Image\n",
    "    Return: numberOfBlobsFound , [List [center-pixels] of blobs]\n",
    "    '''\n",
    "    blobList = []\n",
    "    low_orange = np.array([0, 0, 0])\n",
    "    high_orange = np.array([225, 255, 255])\n",
    "    low_blue = np.array([100, 180, 0])\n",
    "    high_blue = np.array([140, 255, 255])\n",
    "    low_green = np.array([36, 50, 100])\n",
    "    high_green = np.array([86, 255, 255])\n",
    "\n",
    "\n",
    "    ####### ORANGE ########\n",
    "    orange_mask = cv2.inRange(image, low_orange, high_orange)\n",
    "#     print(orange_mask)\n",
    "    orange_circle = findCircle(orange_mask)\n",
    "#     print(orange_circle)\n",
    "    if orange_circle is not None:\n",
    "        if orange_circle.shape == (1,3):\n",
    "            print(\"\\norange found\\n\")\n",
    "            blobList.append(orange_circle)\n",
    "#     ####### GREEN ##########\n",
    "#     green_mask = cv2.inRange(image, low_green, high_green)\n",
    "#     green_circle = findCircle(green_mask)\n",
    "#     if green_circle is not None:\n",
    "#         if green_circle.shape == (1,3):\n",
    "#             print(\"\\ngreen found\")\n",
    "#             blobList.append(green_circle)\n",
    "\n",
    "#     ####### BLUE ##########\n",
    "#     blue_mask = cv2.inRange(image, low_blue, high_blue)\n",
    "#     blue_circle = findCircle(blue_mask)\n",
    "#     if blue_circle is not None:\n",
    "#         if blue_circle.shape == (1,3):\n",
    "#             print(\"\\nblue found\")\n",
    "#             blobList.append(blue_circle)\n",
    "\n",
    "    blobsFound = len(blobList)\n",
    "\n",
    "    return blobsFound, blobList\n",
    "\n",
    "def drawCircles(circle_data):\n",
    "    if not circle_data is None:\n",
    "        img = np.zeros((320,400,3), np.uint8)\n",
    "        for i in circle_data:\n",
    "            print(i[0])\n",
    "            if not i is None:\n",
    "                cv2.circle(img,(int(i[0]),int(i[1])),int(i[2]),(255,255,255),1)\n",
    "        # return cv.fromarray(img)\n",
    "        return img\n",
    "    else:\n",
    "        print(\"NO CIRCLES\")"
   ]
  },
  {
   "cell_type": "code",
   "execution_count": 32,
   "id": "0478023f",
   "metadata": {},
   "outputs": [],
   "source": [
    "def delete_background(im):\n",
    "        \"\"\"\n",
    "        Finds contours on the image and changes the pixels outside these contours to black. \n",
    "        Input: bgr image\n",
    "        Returns: returns hsv image \n",
    "        \"\"\"\n",
    "        # Find contours on image\n",
    "        gray = cv2.cvtColor(im, cv2.COLOR_BGR2GRAY,) \n",
    "#         print(gray)\n",
    "        ret, thresh = cv2.threshold(gray, 150, 255, cv2.THRESH_BINARY)\n",
    "        contours, hierarchy  = cv2.findContours(thresh, cv2.RETR_EXTERNAL, cv2.CHAIN_APPROX_NONE)  \n",
    "#         print(contours)\n",
    "        # Change pixels outside the contours to black\n",
    "        stencil = np.zeros(im.shape).astype(im.dtype)\n",
    "        cv2.fillPoly(stencil, contours, [255,255,255])\n",
    "        result = cv2.bitwise_and(im, stencil)\n",
    "        cv2.imwrite(\"result.png\", result)\n",
    "\n",
    "        return cv2.cvtColor(result, cv2.COLOR_BGR2HSV)\n"
   ]
  },
  {
   "cell_type": "code",
   "execution_count": 33,
   "id": "785a4518",
   "metadata": {},
   "outputs": [],
   "source": [
    " def find_blobs(image):\n",
    "        \"\"\"\n",
    "        Takes a picture, and makes background black.\n",
    "        Returns hsv image.\n",
    "        \"\"\"\n",
    "        \n",
    "        image_hsv = delete_background(image)\n",
    "        print(image_hsv)\n",
    "#         cv2.imshow(\"wind\",image_hsv)\n",
    "        return getBlobsData(image_hsv)\n"
   ]
  },
  {
   "cell_type": "code",
   "execution_count": 34,
   "id": "5ea50f2c",
   "metadata": {},
   "outputs": [],
   "source": [
    "def convertColourSpace(srcImage, conversion):\n",
    "        dstImage = cv2.cvtColor(srcImage, conversion) # cv2.COLOR_RGB2RGBA)\n",
    "        return dstImage"
   ]
  },
  {
   "cell_type": "code",
   "execution_count": 59,
   "id": "93f6a74e",
   "metadata": {},
   "outputs": [],
   "source": [
    "# RED BALL EDITION\n",
    "\n",
    "\n",
    "def load_images_from_folder(folder):\n",
    "    images = []\n",
    "    for filename in os.listdir(folder):\n",
    "        img = cv2.imread(os.path.join(folder,filename))\n",
    "        if img is not None:\n",
    "            images.append(img)\n",
    "    return images\n",
    "\n",
    "images = load_images_from_folder('Traffic_light_data_ETHZ/red')\n",
    "for i, image in enumerate(images):    \n",
    "# last_image = cv2.imread('Traffic_light_data_ETHZ/red/b_br_yanberbot_0764.jpg')\n",
    "    cv2.medianBlur(image, 3)\n",
    "    hsv_conv_img = cv2.cvtColor(image, cv2.COLOR_BGR2HSV)\n",
    "\n",
    "\n",
    "    # because hue wraps up and to extract as many \"red objects\" as possible, I define lower and upper boundaries for brighter and for darker red shades\n",
    "    bright_red_lower_bounds = (0, 150, 150)\n",
    "    bright_red_upper_bounds = (10, 255, 255)\n",
    "    bright_red_mask = cv2.inRange(hsv_conv_img, bright_red_lower_bounds, bright_red_upper_bounds)\n",
    "\n",
    "    dark_red_lower_bounds = (160, 150, 130)\n",
    "    dark_red_upper_bounds = (179, 255, 255)\n",
    "    dark_red_mask = cv2.inRange(hsv_conv_img, dark_red_lower_bounds, dark_red_upper_bounds)\n",
    "\n",
    "    # after masking the red shades out, I add the two images \n",
    "    weighted_mask = cv2.addWeighted(bright_red_mask, 1.0, dark_red_mask, 1.0, 0.0)\n",
    "\n",
    "    # then the result is blurred\n",
    "    blurred_mask = cv2.GaussianBlur(weighted_mask,(9,9),3,3)\n",
    "\n",
    "    # some morphological operations (closing) to remove small blobs \n",
    "    erode_element = cv2.getStructuringElement(cv2.MORPH_RECT, (3, 3))\n",
    "    dilate_element = cv2.getStructuringElement(cv2.MORPH_RECT, (8, 8))\n",
    "    eroded_mask = cv2.erode(blurred_mask,erode_element)\n",
    "    dilated_mask = cv2.dilate(eroded_mask,dilate_element)\n",
    "\n",
    "\n",
    "    # on the color-masked, blurred and morphed image I apply the cv2.HoughCircles-method to detect circle-shaped objects \n",
    "    detected_circles = cv2.HoughCircles(dilated_mask, cv2.HOUGH_GRADIENT, 1, 150, param1=100, param2=20, minRadius=1 ,maxRadius=200)\n",
    "    if detected_circles is not None:\n",
    "        for circle in detected_circles[0, :]:\n",
    "            circled_orig = cv2.circle(image, (int(circle[0]), int(circle[1])), int(circle[2]), (0,255,0),thickness=3)\n",
    "        cv2.imwrite(\"og_circ\" + str(i) + \".png\", circled_orig)\n",
    "    else:\n",
    "        cv2.imwrite(\"og\" + str(i) +\".png\", image)\n"
   ]
  },
  {
   "cell_type": "code",
   "execution_count": 57,
   "id": "2502d01a",
   "metadata": {},
   "outputs": [],
   "source": [
    "# RED TRAFFIC LIGHT EDITION\n",
    "\n",
    "\n",
    "def load_images_from_folder(folder):\n",
    "    images = []\n",
    "    for filename in os.listdir(folder):\n",
    "        img = cv2.imread(os.path.join(folder,filename))\n",
    "        if img is not None:\n",
    "            images.append(img)\n",
    "    return images\n",
    "\n",
    "images = load_images_from_folder('Traffic_light_data_ETHZ/red')\n",
    "for i, image in enumerate(images):    \n",
    "# last_image = cv2.imread('Traffic_light_data_ETHZ/red/b_br_yanberbot_0764.jpg')\n",
    "    cv2.medianBlur(image, 3)\n",
    "    hsv_conv_img = cv2.cvtColor(image, cv2.COLOR_BGR2HSV)\n",
    "\n",
    "\n",
    "    # because hue wraps up and to extract as many \"red objects\" as possible, I define lower and upper boundaries for brighter and for darker red shades\n",
    "    bright_red_lower_bounds = (100, 50, 220)\n",
    "    bright_red_upper_bounds = (160, 160, 255)\n",
    "    bright_red_mask = cv2.inRange(hsv_conv_img, bright_red_lower_bounds, bright_red_upper_bounds)\n",
    "\n",
    "    dark_red_lower_bounds = (200, 150, 220)\n",
    "    dark_red_upper_bounds = (255, 255, 255)\n",
    "    dark_red_mask = cv2.inRange(hsv_conv_img, dark_red_lower_bounds, dark_red_upper_bounds)\n",
    "\n",
    "    # after masking the red shades out, I add the two images \n",
    "    weighted_mask = cv2.addWeighted(bright_red_mask, 1.0, dark_red_mask, 1.0, 0.0)\n",
    "\n",
    "    # then the result is blurred\n",
    "    blurred_mask = cv2.GaussianBlur(weighted_mask,(9,9),3,3)\n",
    "\n",
    "    # some morphological operations (closing) to remove small blobs \n",
    "    erode_element = cv2.getStructuringElement(cv2.MORPH_RECT, (3, 3))\n",
    "    dilate_element = cv2.getStructuringElement(cv2.MORPH_RECT, (8, 8))\n",
    "    eroded_mask = cv2.erode(blurred_mask,erode_element)\n",
    "    dilated_mask = cv2.dilate(eroded_mask,dilate_element)\n",
    "\n",
    "\n",
    "    # on the color-masked, blurred and morphed image I apply the cv2.HoughCircles-method to detect circle-shaped objects \n",
    "    detected_circles = cv2.HoughCircles(dilated_mask, cv2.HOUGH_GRADIENT, 1, 150, param1=100, param2=20, minRadius=1 ,maxRadius=200)\n",
    "    if detected_circles is not None:\n",
    "        for circle in detected_circles[0, :]:\n",
    "            circled_orig = cv2.circle(image, (int(circle[0]), int(circle[1])), int(circle[2]), (0,255,0),thickness=3)\n",
    "        cv2.imwrite(\"og_traf_circ\" + str(i) + \".png\", circled_orig)\n",
    "    else:\n",
    "        cv2.imwrite(\"og_traf\" + str(i) +\".png\", image)\n"
   ]
  },
  {
   "cell_type": "code",
   "execution_count": 51,
   "id": "549bde14",
   "metadata": {},
   "outputs": [
    {
     "data": {
      "text/plain": [
       "<matplotlib.image.AxesImage at 0x7f84052dcd00>"
      ]
     },
     "execution_count": 51,
     "metadata": {},
     "output_type": "execute_result"
    },
    {
     "data": {
      "image/png": "[encoded data removed]",
      "text/plain": [
       "<Figure size 432x288 with 1 Axes>"
      ]
     },
     "metadata": {
      "needs_background": "light"
     },
     "output_type": "display_data"
    }
   ],
   "source": [
    "import sys\n",
    "import skimage.io\n",
    "from matplotlib import pyplot as plt\n",
    "\n",
    "# read original image, in full color, based on command\n",
    "# line argument\n",
    "image = skimage.io.imread('red_crop')\n",
    "\n",
    "# display the image\n",
    "skimage.io.imshow(image)\n"
   ]
  },
  {
   "cell_type": "code",
   "execution_count": 52,
   "id": "9f50302a",
   "metadata": {},
   "outputs": [
    {
     "data": {
      "image/png": "[encoded data removed]",
      "text/plain": [
       "<Figure size 432x288 with 1 Axes>"
      ]
     },
     "metadata": {
      "needs_background": "light"
     },
     "output_type": "display_data"
    }
   ],
   "source": [
    "# tuple to select colors of each channel line\n",
    "colors = (\"red\", \"green\", \"blue\")\n",
    "channel_ids = (0, 1, 2)\n",
    "\n",
    "# create the histogram plot, with three lines, one for\n",
    "# each color\n",
    "plt.xlim([0, 256])\n",
    "for channel_id, c in zip(channel_ids, colors):\n",
    "    histogram, bin_edges = np.histogram(\n",
    "        image[:, :, channel_id], bins=256, range=(0, 256)\n",
    "    )\n",
    "    plt.plot(bin_edges[0:-1], histogram, color=c)\n",
    "\n",
    "plt.xlabel(\"Color value\")\n",
    "plt.ylabel(\"Pixels\")\n",
    "\n",
    "plt.show()\n"
   ]
  },
  {
   "cell_type": "code",
   "execution_count": null,
   "id": "f4865839",
   "metadata": {},
   "outputs": [],
   "source": []
  }
 ],
 "metadata": {
  "kernelspec": {
   "display_name": "Python 3 (ipykernel)",
   "language": "python",
   "name": "python3"
  },
  "language_info": {
   "codemirror_mode": {
    "name": "ipython",
    "version": 3
   },
   "file_extension": ".py",
   "mimetype": "text/x-python",
   "name": "python",
   "nbconvert_exporter": "python",
   "pygments_lexer": "ipython3",
   "version": "3.8.10"
  }
 },
 "nbformat": 4,
 "nbformat_minor": 5
}
